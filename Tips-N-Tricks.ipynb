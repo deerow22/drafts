{
 "cells": [
  {
   "cell_type": "markdown",
   "metadata": {},
   "source": [
    "<a id=\"notebook-beginning\"></a>\n",
    "# Welcome to Jupyter Notebook Tips & Tricks\n",
    "![ipynb logo](https://docs.jupyter.org/en/latest/_static/jupyter.svg)\n",
    "\n",
    "***"
   ]
  },
  {
   "cell_type": "markdown",
   "metadata": {},
   "source": [
    "# <ins>Topic 1:<ins> _Manipulating Cells_\n",
    "\n",
    "1. To run a cell, hit `shift` + `return` keys\n",
    "2. Cell creation: `a` to insert a new cell above the current cell, `b` to insert a new cell below\n",
    "3. To delete a selected cell, type `d` twice\n",
    "4. To change a cell to accept markdown text, select the cell (but not inside the text box) and type `m`\n",
    "    1. note cell boarder will change from blue to green\n",
    "5. To change a cell to accept code syntax, select the cell (but not inside the text box) and type `y`\n",
    "    1. note cell boarder will change from green to blue\n",
    "6. Once a cell is selected, to move to the text box hit `return` key\n",
    "7. Once a cell is selected, to move outside of the text box hit `esc` key\n",
    "\n",
    "*Practice yourself below!*"
   ]
  },
  {
   "cell_type": "code",
   "execution_count": null,
   "metadata": {},
   "outputs": [],
   "source": []
  },
  {
   "cell_type": "code",
   "execution_count": null,
   "metadata": {},
   "outputs": [],
   "source": []
  },
  {
   "cell_type": "code",
   "execution_count": null,
   "metadata": {},
   "outputs": [],
   "source": []
  },
  {
   "cell_type": "markdown",
   "metadata": {},
   "source": [
    "# <ins>Topic 2: _Markdown_<ins>\n",
    "\n",
    "There are many ways to style text in markdown.\n",
    "\n",
    "__Headings:__ 6 heading styles\n",
    "<img src=\"https://raw.githubusercontent.com/deerow22/drafts/main/headings.png\" alt=\"headings_pic\" style=\"width: 400px;\"/>\n",
    "\n",
    "__Lists:__ You can create ordered and unordered lists\n",
    "<img src=\"https://raw.githubusercontent.com/deerow22/drafts/main/lists.png\" alt=\"lists_pic\" style=\"width: 400px;\"/>\n",
    "    \n",
    "__Styles:__ You can emphasize text using double or single * or _ before and after text\n",
    " <img src=\"https://raw.githubusercontent.com/deerow22/drafts/main/style.png\" alt=\"style_pic\" style=\"width: 400px;\"/>   \n",
    "      \n",
    "__Code Text:__ You can also format text to look like code using the backtick key (underneath the tilde ~) OR create a block of text by surrounding text block with three backticks and the code language name before and three backticks after as seen below\n",
    " <img src=\"https://raw.githubusercontent.com/deerow22/drafts/main/code.png\" alt=\"code_pic\" style=\"width: 400px;\"/>\n",
    " <img src=\"https://raw.githubusercontent.com/deerow22/drafts/main/codeblock.png\" alt=\"codeblock_pic\" style=\"width: 400px;\"/> \n",
    "    \n",
    "__Line Breaks:__ You can insert a line break to clearly define/separate sections    \n",
    "<img src=\"https://raw.githubusercontent.com/deerow22/drafts/main/break.png\" alt=\"break_pic\" style=\"width: 500px;\"/>\n",
    "\n",
    "__Text Color:__ You can use html to adjust text color and background color. \n",
    "    *Tip* you can also use style=\"\" to ajust other formatting with html, such as font-size and text-align. \n",
    "<img src=\"https://raw.githubusercontent.com/deerow22/drafts/main/color.png\" alt=\"colors_pic\" style=\"width: 500px;\"/>\n",
    "    \n",
    "    \n",
    "*Now practice a few of these yourself below! (Remember to first change the cell to markdown)*"
   ]
  },
  {
   "cell_type": "code",
   "execution_count": null,
   "metadata": {},
   "outputs": [],
   "source": []
  },
  {
   "cell_type": "code",
   "execution_count": null,
   "metadata": {},
   "outputs": [],
   "source": []
  },
  {
   "cell_type": "code",
   "execution_count": null,
   "metadata": {},
   "outputs": [],
   "source": []
  },
  {
   "cell_type": "markdown",
   "metadata": {},
   "source": [
    "# <ins>__Topic 3:__ Links and Images<ins>\n",
    "\n",
    "__Insert Images:__ You can insert images/figures from your local machine, or with a url. \n",
    "    \n",
    "    *Tip* you can use github to generate url for your image\n",
    "    \n",
    "    *Tip* this also works for gifs\n",
    "<img src=\"https://raw.githubusercontent.com/deerow22/drafts/main/image1.png\" alt=\"image_pic1\" style=\"width: 500px;\"/>   \n",
    "<img src=\"https://raw.githubusercontent.com/deerow22/drafts/main/image2.png\" alt=\"image_pic2\" style=\"width: 500px;\"/> \n",
    "    \n",
    "    \n",
    "__Inserting Links:__ You can insert internal or external links just like images but without the `!`.\n",
    "    Internal Links are used to connect different sections of the notebook, but you must name that section to link to it. For example: click the text box of the first cell of this notebook to see line 1 for naming a section (I can't type it here or it links to here). The image below shows the markdown code that generates the clickable links that follow\n",
    "<img src=\"https://raw.githubusercontent.com/deerow22/drafts/main/links.png\" alt=\"links_pic\" style=\"width: 500px;\"/>\n"
   ]
  },
  {
   "cell_type": "markdown",
   "metadata": {},
   "source": [
    "### External URL link\n",
    "[Check out our BP programs at NRAO](https://superknova.org/)\n",
    "\n",
    "### Internal \n",
    "[not working link text](#section-of-notebook)\n",
    "\n",
    "[working link text](#notebook-beginning)"
   ]
  },
  {
   "cell_type": "code",
   "execution_count": null,
   "metadata": {},
   "outputs": [],
   "source": []
  },
  {
   "cell_type": "code",
   "execution_count": null,
   "metadata": {},
   "outputs": [],
   "source": []
  },
  {
   "cell_type": "code",
   "execution_count": null,
   "metadata": {},
   "outputs": [],
   "source": []
  },
  {
   "cell_type": "markdown",
   "metadata": {},
   "source": [
    "# <ins>__Topic 4:__ Magic Keys <ins>\n",
    "__Magic Functions__ are special commands that do magical things! so many different things! They will always start with `%` and are run within code cells. Please google these because there are so many but below I will cover some of the more useful ones.\n"
   ]
  },
  {
   "cell_type": "code",
   "execution_count": 1,
   "metadata": {},
   "outputs": [
    {
     "data": {
      "application/json": {
       "cell": {
        "!": "OSMagics",
        "HTML": "Other",
        "SVG": "Other",
        "bash": "Other",
        "capture": "ExecutionMagics",
        "debug": "ExecutionMagics",
        "file": "Other",
        "html": "DisplayMagics",
        "javascript": "DisplayMagics",
        "js": "DisplayMagics",
        "latex": "DisplayMagics",
        "markdown": "DisplayMagics",
        "perl": "Other",
        "prun": "ExecutionMagics",
        "pypy": "Other",
        "python": "Other",
        "python2": "Other",
        "python3": "Other",
        "ruby": "Other",
        "script": "ScriptMagics",
        "sh": "Other",
        "svg": "DisplayMagics",
        "sx": "OSMagics",
        "system": "OSMagics",
        "time": "ExecutionMagics",
        "timeit": "ExecutionMagics",
        "writefile": "OSMagics"
       },
       "line": {
        "alias": "OSMagics",
        "alias_magic": "BasicMagics",
        "autoawait": "AsyncMagics",
        "autocall": "AutoMagics",
        "automagic": "AutoMagics",
        "autosave": "KernelMagics",
        "bookmark": "OSMagics",
        "cat": "Other",
        "cd": "OSMagics",
        "clear": "KernelMagics",
        "colors": "BasicMagics",
        "conda": "PackagingMagics",
        "config": "ConfigMagics",
        "connect_info": "KernelMagics",
        "cp": "Other",
        "debug": "ExecutionMagics",
        "dhist": "OSMagics",
        "dirs": "OSMagics",
        "doctest_mode": "BasicMagics",
        "ed": "Other",
        "edit": "KernelMagics",
        "env": "OSMagics",
        "gui": "BasicMagics",
        "hist": "Other",
        "history": "HistoryMagics",
        "killbgscripts": "ScriptMagics",
        "ldir": "Other",
        "less": "KernelMagics",
        "lf": "Other",
        "lk": "Other",
        "ll": "Other",
        "load": "CodeMagics",
        "load_ext": "ExtensionMagics",
        "loadpy": "CodeMagics",
        "logoff": "LoggingMagics",
        "logon": "LoggingMagics",
        "logstart": "LoggingMagics",
        "logstate": "LoggingMagics",
        "logstop": "LoggingMagics",
        "ls": "Other",
        "lsmagic": "BasicMagics",
        "lx": "Other",
        "macro": "ExecutionMagics",
        "magic": "BasicMagics",
        "man": "KernelMagics",
        "matplotlib": "PylabMagics",
        "mkdir": "Other",
        "more": "KernelMagics",
        "mv": "Other",
        "notebook": "BasicMagics",
        "page": "BasicMagics",
        "pastebin": "CodeMagics",
        "pdb": "ExecutionMagics",
        "pdef": "NamespaceMagics",
        "pdoc": "NamespaceMagics",
        "pfile": "NamespaceMagics",
        "pinfo": "NamespaceMagics",
        "pinfo2": "NamespaceMagics",
        "pip": "PackagingMagics",
        "popd": "OSMagics",
        "pprint": "BasicMagics",
        "precision": "BasicMagics",
        "prun": "ExecutionMagics",
        "psearch": "NamespaceMagics",
        "psource": "NamespaceMagics",
        "pushd": "OSMagics",
        "pwd": "OSMagics",
        "pycat": "OSMagics",
        "pylab": "PylabMagics",
        "qtconsole": "KernelMagics",
        "quickref": "BasicMagics",
        "recall": "HistoryMagics",
        "rehashx": "OSMagics",
        "reload_ext": "ExtensionMagics",
        "rep": "Other",
        "rerun": "HistoryMagics",
        "reset": "NamespaceMagics",
        "reset_selective": "NamespaceMagics",
        "rm": "Other",
        "rmdir": "Other",
        "run": "ExecutionMagics",
        "save": "CodeMagics",
        "sc": "OSMagics",
        "set_env": "OSMagics",
        "store": "StoreMagics",
        "sx": "OSMagics",
        "system": "OSMagics",
        "tb": "ExecutionMagics",
        "time": "ExecutionMagics",
        "timeit": "ExecutionMagics",
        "unalias": "OSMagics",
        "unload_ext": "ExtensionMagics",
        "who": "NamespaceMagics",
        "who_ls": "NamespaceMagics",
        "whos": "NamespaceMagics",
        "xdel": "NamespaceMagics",
        "xmode": "BasicMagics"
       }
      },
      "text/plain": [
       "Available line magics:\n",
       "%alias  %alias_magic  %autoawait  %autocall  %automagic  %autosave  %bookmark  %cat  %cd  %clear  %colors  %conda  %config  %connect_info  %cp  %debug  %dhist  %dirs  %doctest_mode  %ed  %edit  %env  %gui  %hist  %history  %killbgscripts  %ldir  %less  %lf  %lk  %ll  %load  %load_ext  %loadpy  %logoff  %logon  %logstart  %logstate  %logstop  %ls  %lsmagic  %lx  %macro  %magic  %man  %matplotlib  %mkdir  %more  %mv  %notebook  %page  %pastebin  %pdb  %pdef  %pdoc  %pfile  %pinfo  %pinfo2  %pip  %popd  %pprint  %precision  %prun  %psearch  %psource  %pushd  %pwd  %pycat  %pylab  %qtconsole  %quickref  %recall  %rehashx  %reload_ext  %rep  %rerun  %reset  %reset_selective  %rm  %rmdir  %run  %save  %sc  %set_env  %store  %sx  %system  %tb  %time  %timeit  %unalias  %unload_ext  %who  %who_ls  %whos  %xdel  %xmode\n",
       "\n",
       "Available cell magics:\n",
       "%%!  %%HTML  %%SVG  %%bash  %%capture  %%debug  %%file  %%html  %%javascript  %%js  %%latex  %%markdown  %%perl  %%prun  %%pypy  %%python  %%python2  %%python3  %%ruby  %%script  %%sh  %%svg  %%sx  %%system  %%time  %%timeit  %%writefile\n",
       "\n",
       "Automagic is ON, % prefix IS NOT needed for line magics."
      ]
     },
     "execution_count": 1,
     "metadata": {},
     "output_type": "execute_result"
    }
   ],
   "source": [
    "# this magic function tells you all available magic functions\n",
    "%lsmagic"
   ]
  },
  {
   "cell_type": "code",
   "execution_count": 2,
   "metadata": {},
   "outputs": [
    {
     "name": "stdout",
     "output_type": "stream",
     "text": [
      "CPU times: user 2 µs, sys: 0 ns, total: 2 µs\n",
      "Wall time: 4.05 µs\n",
      "7\n"
     ]
    }
   ],
   "source": [
    "# %%time magic function gives us the time required for execution of a given cell\n",
    "\n",
    "%time\n",
    "a = 4\n",
    "b = 3\n",
    "print(a+b)"
   ]
  },
  {
   "cell_type": "code",
   "execution_count": 3,
   "metadata": {},
   "outputs": [
    {
     "name": "stdout",
     "output_type": "stream",
     "text": [
      "a\t b\t \n"
     ]
    }
   ],
   "source": [
    "#The %who magic function gives a list of all the variables defined in the notebook.\n",
    "#You can pass a data type after command name to list only variables of that particular data type.\n",
    "\n",
    "%who int"
   ]
  },
  {
   "cell_type": "code",
   "execution_count": 4,
   "metadata": {},
   "outputs": [],
   "source": [
    "# The %%writefile magic function writes the code in that particular cell, to another file stored in the drive.\n",
    "# You can pass the file name in which you want to save your code, after the command name"
   ]
  },
  {
   "cell_type": "code",
   "execution_count": 5,
   "metadata": {},
   "outputs": [
    {
     "name": "stdout",
     "output_type": "stream",
     "text": [
      "Overwriting helloworld.py\n"
     ]
    }
   ],
   "source": [
    "%%writefile helloworld.py\n",
    "print(\"Hello world\")"
   ]
  },
  {
   "cell_type": "code",
   "execution_count": 6,
   "metadata": {},
   "outputs": [
    {
     "name": "stdout",
     "output_type": "stream",
     "text": [
      "Hello world\n"
     ]
    }
   ],
   "source": [
    "#The %run magic function runs a file saved on the drive.\n",
    "#You can pass a file name after the command name.\n",
    "\n",
    "%run helloworld.py"
   ]
  },
  {
   "cell_type": "markdown",
   "metadata": {},
   "source": [
    "***\n",
    "# *Use the cells below to practice everything above - try to combine tips and google for more!*"
   ]
  },
  {
   "cell_type": "code",
   "execution_count": null,
   "metadata": {},
   "outputs": [],
   "source": []
  },
  {
   "cell_type": "code",
   "execution_count": null,
   "metadata": {},
   "outputs": [],
   "source": []
  },
  {
   "cell_type": "code",
   "execution_count": null,
   "metadata": {},
   "outputs": [],
   "source": []
  },
  {
   "cell_type": "code",
   "execution_count": null,
   "metadata": {},
   "outputs": [],
   "source": []
  },
  {
   "cell_type": "code",
   "execution_count": null,
   "metadata": {},
   "outputs": [],
   "source": []
  },
  {
   "cell_type": "code",
   "execution_count": null,
   "metadata": {},
   "outputs": [],
   "source": []
  },
  {
   "cell_type": "code",
   "execution_count": null,
   "metadata": {},
   "outputs": [],
   "source": []
  },
  {
   "cell_type": "code",
   "execution_count": null,
   "metadata": {},
   "outputs": [],
   "source": []
  },
  {
   "cell_type": "code",
   "execution_count": null,
   "metadata": {},
   "outputs": [],
   "source": []
  }
 ],
 "metadata": {
  "kernelspec": {
   "display_name": "Python 3",
   "language": "python",
   "name": "python3"
  },
  "language_info": {
   "codemirror_mode": {
    "name": "ipython",
    "version": 3
   },
   "file_extension": ".py",
   "mimetype": "text/x-python",
   "name": "python",
   "nbconvert_exporter": "python",
   "pygments_lexer": "ipython3",
   "version": "3.7.8"
  }
 },
 "nbformat": 4,
 "nbformat_minor": 4
}
